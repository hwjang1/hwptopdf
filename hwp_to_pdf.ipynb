{
 "cells": [
  {
   "cell_type": "code",
   "execution_count": 1,
   "metadata": {},
   "outputs": [],
   "source": [
    "import pymysql\n",
    "import pandas as pd\n",
    "import requests\n",
    "import os"
   ]
  },
  {
   "cell_type": "code",
   "execution_count": 2,
   "metadata": {},
   "outputs": [],
   "source": [
    "conn = pymysql.connect(host='127.0.01'\n",
    "                       , port=3306\n",
    "                       , user='user'\n",
    "                       , password='password'\n",
    "                       , db='db'\n",
    "                       , cursorclass=pymysql.cursors.DictCursor\n",
    "                       , autocommit=True)\n",
    "with conn.cursor() as curs:        \n",
    "    sql = \"\"\"SQL QUERY\"\"\"\n",
    "    curs.execute(sql)\n",
    "    df_file_list = pd.DataFrame(curs.fetchall(), columns=['id', 'file_path', 'file_name'])\n",
    "    conn.close()"
   ]
  },
  {
   "cell_type": "code",
   "execution_count": 3,
   "metadata": {},
   "outputs": [],
   "source": [
    "df_file_list['download_path'] = df_file_list.apply(lambda x: 'https://images.labelon.kr/' + x['file_path'] + '/' + x['file_name'], axis=1)"
   ]
  },
  {
   "cell_type": "code",
   "execution_count": 4,
   "metadata": {},
   "outputs": [],
   "source": [
    "df_file_list['sys_file_path'] = df_file_list.apply(lambda x: 'E:/hwptopdf/msit/' + str(x['id']) + '.hwp', axis=1)"
   ]
  },
  {
   "cell_type": "code",
   "execution_count": 5,
   "metadata": {},
   "outputs": [],
   "source": [
    "def download(url, download_path): \n",
    "    if not os.path.exists(download_path):        \n",
    "        with open(download_path, \"wb\") as file:   \n",
    "            response = requests.get(f'{url}')               \n",
    "            file.write(response.content)"
   ]
  },
  {
   "cell_type": "code",
   "execution_count": 6,
   "metadata": {},
   "outputs": [
    {
     "data": {
      "text/html": [
       "<div>\n",
       "<style scoped>\n",
       "    .dataframe tbody tr th:only-of-type {\n",
       "        vertical-align: middle;\n",
       "    }\n",
       "\n",
       "    .dataframe tbody tr th {\n",
       "        vertical-align: top;\n",
       "    }\n",
       "\n",
       "    .dataframe thead th {\n",
       "        text-align: right;\n",
       "    }\n",
       "</style>\n",
       "<table border=\"1\" class=\"dataframe\">\n",
       "  <thead>\n",
       "    <tr style=\"text-align: right;\">\n",
       "      <th></th>\n",
       "      <th>id</th>\n",
       "      <th>file_path</th>\n",
       "      <th>file_name</th>\n",
       "      <th>download_path</th>\n",
       "      <th>sys_file_path</th>\n",
       "    </tr>\n",
       "  </thead>\n",
       "  <tbody>\n",
       "    <tr>\n",
       "      <th>0</th>\n",
       "      <td>2660292</td>\n",
       "      <td>2021/07/13</td>\n",
       "      <td>b5b8f029325541e98fc0381b33ea4312.hwp</td>\n",
       "      <td>https://images.labelon.kr/2021/07/13/b5b8f0293...</td>\n",
       "      <td>E:/hwptopdf/msit/2660292.hwp</td>\n",
       "    </tr>\n",
       "    <tr>\n",
       "      <th>1</th>\n",
       "      <td>2660293</td>\n",
       "      <td>2021/07/13</td>\n",
       "      <td>7d9a5a0abf234d56a4d6842e19bdb199.hwp</td>\n",
       "      <td>https://images.labelon.kr/2021/07/13/7d9a5a0ab...</td>\n",
       "      <td>E:/hwptopdf/msit/2660293.hwp</td>\n",
       "    </tr>\n",
       "    <tr>\n",
       "      <th>2</th>\n",
       "      <td>2660294</td>\n",
       "      <td>2021/07/13</td>\n",
       "      <td>293d9076b34e45b683ccae0228af4a3c.hwp</td>\n",
       "      <td>https://images.labelon.kr/2021/07/13/293d9076b...</td>\n",
       "      <td>E:/hwptopdf/msit/2660294.hwp</td>\n",
       "    </tr>\n",
       "    <tr>\n",
       "      <th>3</th>\n",
       "      <td>2660295</td>\n",
       "      <td>2021/07/13</td>\n",
       "      <td>99a2eeee6d4642148e0581054f63ce7f.hwp</td>\n",
       "      <td>https://images.labelon.kr/2021/07/13/99a2eeee6...</td>\n",
       "      <td>E:/hwptopdf/msit/2660295.hwp</td>\n",
       "    </tr>\n",
       "    <tr>\n",
       "      <th>4</th>\n",
       "      <td>2660296</td>\n",
       "      <td>2021/07/13</td>\n",
       "      <td>875fe91f6fd0474685a27c785792176c.hwp</td>\n",
       "      <td>https://images.labelon.kr/2021/07/13/875fe91f6...</td>\n",
       "      <td>E:/hwptopdf/msit/2660296.hwp</td>\n",
       "    </tr>\n",
       "    <tr>\n",
       "      <th>...</th>\n",
       "      <td>...</td>\n",
       "      <td>...</td>\n",
       "      <td>...</td>\n",
       "      <td>...</td>\n",
       "      <td>...</td>\n",
       "    </tr>\n",
       "    <tr>\n",
       "      <th>9589</th>\n",
       "      <td>2670768</td>\n",
       "      <td>2021/07/13</td>\n",
       "      <td>3d11f527fe974de7ad6ac2d89a0babd3.hwp</td>\n",
       "      <td>https://images.labelon.kr/2021/07/13/3d11f527f...</td>\n",
       "      <td>E:/hwptopdf/msit/2670768.hwp</td>\n",
       "    </tr>\n",
       "    <tr>\n",
       "      <th>9590</th>\n",
       "      <td>2670769</td>\n",
       "      <td>2021/07/13</td>\n",
       "      <td>e4c0af6eaa1542a68aa657a7ce02bf33.hwp</td>\n",
       "      <td>https://images.labelon.kr/2021/07/13/e4c0af6ea...</td>\n",
       "      <td>E:/hwptopdf/msit/2670769.hwp</td>\n",
       "    </tr>\n",
       "    <tr>\n",
       "      <th>9591</th>\n",
       "      <td>2670770</td>\n",
       "      <td>2021/07/13</td>\n",
       "      <td>30b86995b46c46cf89ce7ff129462b0b.hwp</td>\n",
       "      <td>https://images.labelon.kr/2021/07/13/30b86995b...</td>\n",
       "      <td>E:/hwptopdf/msit/2670770.hwp</td>\n",
       "    </tr>\n",
       "    <tr>\n",
       "      <th>9592</th>\n",
       "      <td>2670771</td>\n",
       "      <td>2021/07/13</td>\n",
       "      <td>72482b8aaaa041a9ba76520ac608e5d1.hwp</td>\n",
       "      <td>https://images.labelon.kr/2021/07/13/72482b8aa...</td>\n",
       "      <td>E:/hwptopdf/msit/2670771.hwp</td>\n",
       "    </tr>\n",
       "    <tr>\n",
       "      <th>9593</th>\n",
       "      <td>2670772</td>\n",
       "      <td>2021/07/13</td>\n",
       "      <td>76f2a83055524e7ea75f5168f646356e.hwp</td>\n",
       "      <td>https://images.labelon.kr/2021/07/13/76f2a8305...</td>\n",
       "      <td>E:/hwptopdf/msit/2670772.hwp</td>\n",
       "    </tr>\n",
       "  </tbody>\n",
       "</table>\n",
       "<p>9594 rows × 5 columns</p>\n",
       "</div>"
      ],
      "text/plain": [
       "           id   file_path                             file_name  \\\n",
       "0     2660292  2021/07/13  b5b8f029325541e98fc0381b33ea4312.hwp   \n",
       "1     2660293  2021/07/13  7d9a5a0abf234d56a4d6842e19bdb199.hwp   \n",
       "2     2660294  2021/07/13  293d9076b34e45b683ccae0228af4a3c.hwp   \n",
       "3     2660295  2021/07/13  99a2eeee6d4642148e0581054f63ce7f.hwp   \n",
       "4     2660296  2021/07/13  875fe91f6fd0474685a27c785792176c.hwp   \n",
       "...       ...         ...                                   ...   \n",
       "9589  2670768  2021/07/13  3d11f527fe974de7ad6ac2d89a0babd3.hwp   \n",
       "9590  2670769  2021/07/13  e4c0af6eaa1542a68aa657a7ce02bf33.hwp   \n",
       "9591  2670770  2021/07/13  30b86995b46c46cf89ce7ff129462b0b.hwp   \n",
       "9592  2670771  2021/07/13  72482b8aaaa041a9ba76520ac608e5d1.hwp   \n",
       "9593  2670772  2021/07/13  76f2a83055524e7ea75f5168f646356e.hwp   \n",
       "\n",
       "                                          download_path  \\\n",
       "0     https://images.labelon.kr/2021/07/13/b5b8f0293...   \n",
       "1     https://images.labelon.kr/2021/07/13/7d9a5a0ab...   \n",
       "2     https://images.labelon.kr/2021/07/13/293d9076b...   \n",
       "3     https://images.labelon.kr/2021/07/13/99a2eeee6...   \n",
       "4     https://images.labelon.kr/2021/07/13/875fe91f6...   \n",
       "...                                                 ...   \n",
       "9589  https://images.labelon.kr/2021/07/13/3d11f527f...   \n",
       "9590  https://images.labelon.kr/2021/07/13/e4c0af6ea...   \n",
       "9591  https://images.labelon.kr/2021/07/13/30b86995b...   \n",
       "9592  https://images.labelon.kr/2021/07/13/72482b8aa...   \n",
       "9593  https://images.labelon.kr/2021/07/13/76f2a8305...   \n",
       "\n",
       "                     sys_file_path  \n",
       "0     E:/hwptopdf/msit/2660292.hwp  \n",
       "1     E:/hwptopdf/msit/2660293.hwp  \n",
       "2     E:/hwptopdf/msit/2660294.hwp  \n",
       "3     E:/hwptopdf/msit/2660295.hwp  \n",
       "4     E:/hwptopdf/msit/2660296.hwp  \n",
       "...                            ...  \n",
       "9589  E:/hwptopdf/msit/2670768.hwp  \n",
       "9590  E:/hwptopdf/msit/2670769.hwp  \n",
       "9591  E:/hwptopdf/msit/2670770.hwp  \n",
       "9592  E:/hwptopdf/msit/2670771.hwp  \n",
       "9593  E:/hwptopdf/msit/2670772.hwp  \n",
       "\n",
       "[9594 rows x 5 columns]"
      ]
     },
     "execution_count": 6,
     "metadata": {},
     "output_type": "execute_result"
    }
   ],
   "source": [
    "df_file_list"
   ]
  },
  {
   "cell_type": "code",
   "execution_count": 7,
   "metadata": {},
   "outputs": [],
   "source": [
    "#df_file_list.apply(lambda x: download(x['download_path'], x['sys_file_path']), axis=1)"
   ]
  },
  {
   "cell_type": "code",
   "execution_count": null,
   "metadata": {},
   "outputs": [],
   "source": []
  },
  {
   "cell_type": "code",
   "execution_count": 8,
   "metadata": {},
   "outputs": [],
   "source": [
    "import os\n",
    "import win32com.client as win32\n",
    "import win32gui"
   ]
  },
  {
   "cell_type": "code",
   "execution_count": 9,
   "metadata": {},
   "outputs": [
    {
     "data": {
      "text/plain": [
       "True"
      ]
     },
     "execution_count": 9,
     "metadata": {},
     "output_type": "execute_result"
    }
   ],
   "source": [
    "hwp = win32.gencache.EnsureDispatch(\"HWPFrame.HwpObject\")\n",
    "hwp.RegisterModule(\"FilePathCheckDLL\", \"AutomationModule\")\n",
    "# hwnd = win32gui.FindWindow(None, '빈 문서 1 - 한글')\n",
    "# win32gui.ShowWindow(hwnd, 0)"
   ]
  },
  {
   "cell_type": "code",
   "execution_count": 10,
   "metadata": {},
   "outputs": [
    {
     "data": {
      "text/plain": [
       "True"
      ]
     },
     "execution_count": 10,
     "metadata": {},
     "output_type": "execute_result"
    }
   ],
   "source": [
    "hwp.RegisterModule(\"FilePathCheckDLL\", \"AutomationModule\")"
   ]
  },
  {
   "cell_type": "code",
   "execution_count": 11,
   "metadata": {},
   "outputs": [],
   "source": [
    "import time"
   ]
  },
  {
   "cell_type": "code",
   "execution_count": 14,
   "metadata": {
    "scrolled": true
   },
   "outputs": [
    {
     "name": "stdout",
     "output_type": "stream",
     "text": [
      "E:/hwptopdf/msit/2670544.hwp\n"
     ]
    }
   ],
   "source": [
    "for idx, file in df_file_list.iterrows():\n",
    "    try:\n",
    "        hwp_file = file['sys_file_path']        \n",
    "        pdf_file = str(os.path.splitext(hwp_file)[0]) + '.pdf'\n",
    "        if os.path.exists(pdf_file):\n",
    "            continue\n",
    "        hwp.Open(hwp_file)\n",
    "        time.sleep(1)\n",
    "        hwp.SaveAs(pdf_file, \"PDF\")\n",
    "        print(hwp_file)\n",
    "    except KeyboardInterrupt:\n",
    "        break\n",
    "    except:\n",
    "        hwp = win32.gencache.EnsureDispatch(\"HWPFrame.HwpObject\")\n",
    "        hwp.RegisterModule(\"FilePathCheckDLL\", \"AutomationModule\")\n",
    "#         hwnd = win32gui.FindWindow(None, '빈 문서 1 - 한글')\n",
    "#         win32gui.ShowWindow(hwnd, 0)"
   ]
  },
  {
   "cell_type": "code",
   "execution_count": 13,
   "metadata": {},
   "outputs": [],
   "source": [
    "hwp.Quit()"
   ]
  }
 ],
 "metadata": {
  "kernelspec": {
   "display_name": "Python 3 (ipykernel)",
   "language": "python",
   "name": "python3"
  },
  "language_info": {
   "codemirror_mode": {
    "name": "ipython",
    "version": 3
   },
   "file_extension": ".py",
   "mimetype": "text/x-python",
   "name": "python",
   "nbconvert_exporter": "python",
   "pygments_lexer": "ipython3",
   "version": "3.9.17"
  }
 },
 "nbformat": 4,
 "nbformat_minor": 4
}
